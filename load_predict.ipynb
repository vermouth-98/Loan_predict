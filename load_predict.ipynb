{
 "metadata": {
  "language_info": {
   "codemirror_mode": {
    "name": "ipython",
    "version": 3
   },
   "file_extension": ".py",
   "mimetype": "text/x-python",
   "name": "python",
   "nbconvert_exporter": "python",
   "pygments_lexer": "ipython3",
   "version": "3.8.7-final"
  },
  "orig_nbformat": 2,
  "kernelspec": {
   "name": "python3",
   "display_name": "Python 3.8.7 64-bit",
   "metadata": {
    "interpreter": {
     "hash": "c88fbd59cb86c1e88e8b3d862fd3d0e64a60639b2bbe567a43ed580e63101e43"
    }
   }
  }
 },
 "nbformat": 4,
 "nbformat_minor": 2,
 "cells": [
  {
   "cell_type": "code",
   "execution_count": 74,
   "metadata": {},
   "outputs": [],
   "source": [
    "import pandas as pd \n",
    "from sklearn.impute import SimpleImputer\n",
    "import numpy as np\n",
    "from sklearn.pipeline import Pipeline\n",
    "from sklearn.ensemble import RandomForestClassifier\n",
    "from sklearn.model_selection import train_test_split, GridSearchCV\n",
    "from sklearn.linear_model import LogisticRegression\n"
   ]
  },
  {
   "cell_type": "code",
   "execution_count": 60,
   "metadata": {},
   "outputs": [],
   "source": [
    "#preprocessing data\n",
    "df = pd.read_csv('train_data.csv')\n",
    "\n",
    "df.drop('Loan_ID',axis = 1, inplace = True)\n",
    "name_columns = list(df.columns.values)\n",
    "#checking nan values\n",
    "imp = SimpleImputer(missing_values = np.nan, strategy = 'most_frequent')\n",
    "imp.fit(df)\n",
    "df = imp.transform(df)\n",
    "# format all string to 1 vs 0\n",
    "\n",
    "df = pd.DataFrame(df,columns= name_columns)\n",
    "# apply one-hot encoding \n",
    "Y = df.iloc[:,-1].values \n",
    "y = [1 if e=='Y' else 0 for e in Y]\n",
    "X = df.drop('Loan_Status', axis = 1)\n",
    "data_new = pd.get_dummies(X,columns =['Gender','Married','Dependents','Education','Self_Employed','Property_Area'] )\n",
    "\n"
   ]
  },
  {
   "cell_type": "code",
   "execution_count": 93,
   "metadata": {},
   "outputs": [
    {
     "output_type": "execute_result",
     "data": {
      "text/plain": [
       "    ApplicantIncome CoapplicantIncome LoanAmount Loan_Amount_Term  \\\n",
       "0              5720                 0      110.0            360.0   \n",
       "1              3076              1500      126.0            360.0   \n",
       "2              5000              1800      208.0            360.0   \n",
       "3              2340              2546      100.0            360.0   \n",
       "4              3276                 0       78.0            360.0   \n",
       "..              ...               ...        ...              ...   \n",
       "362            4009              1777      113.0            360.0   \n",
       "363            4158               709      115.0            360.0   \n",
       "364            3250              1993      126.0            360.0   \n",
       "365            5000              2393      158.0            360.0   \n",
       "366            9200                 0       98.0            180.0   \n",
       "\n",
       "    Credit_History  Gender_Female  Gender_Male  Married_No  Married_Yes  \\\n",
       "0              1.0              0            1           0            1   \n",
       "1              1.0              0            1           0            1   \n",
       "2              1.0              0            1           0            1   \n",
       "3              1.0              0            1           0            1   \n",
       "4              1.0              0            1           1            0   \n",
       "..             ...            ...          ...         ...          ...   \n",
       "362            1.0              0            1           0            1   \n",
       "363            1.0              0            1           0            1   \n",
       "364            1.0              0            1           1            0   \n",
       "365            1.0              0            1           0            1   \n",
       "366            1.0              0            1           1            0   \n",
       "\n",
       "     Dependents_0  Dependents_1  Dependents_2  Dependents_3+  \\\n",
       "0               1             0             0              0   \n",
       "1               0             1             0              0   \n",
       "2               0             0             1              0   \n",
       "3               0             0             1              0   \n",
       "4               1             0             0              0   \n",
       "..            ...           ...           ...            ...   \n",
       "362             0             0             0              1   \n",
       "363             1             0             0              0   \n",
       "364             1             0             0              0   \n",
       "365             1             0             0              0   \n",
       "366             1             0             0              0   \n",
       "\n",
       "     Education_Graduate  Education_Not Graduate  Self_Employed_No  \\\n",
       "0                     1                       0                 1   \n",
       "1                     1                       0                 1   \n",
       "2                     1                       0                 1   \n",
       "3                     1                       0                 1   \n",
       "4                     0                       1                 1   \n",
       "..                  ...                     ...               ...   \n",
       "362                   0                       1                 0   \n",
       "363                   1                       0                 1   \n",
       "364                   1                       0                 1   \n",
       "365                   1                       0                 1   \n",
       "366                   1                       0                 0   \n",
       "\n",
       "     Self_Employed_Yes  Property_Area_Rural  Property_Area_Semiurban  \\\n",
       "0                    0                    0                        0   \n",
       "1                    0                    0                        0   \n",
       "2                    0                    0                        0   \n",
       "3                    0                    0                        0   \n",
       "4                    0                    0                        0   \n",
       "..                 ...                  ...                      ...   \n",
       "362                  1                    0                        0   \n",
       "363                  0                    0                        0   \n",
       "364                  0                    0                        1   \n",
       "365                  0                    1                        0   \n",
       "366                  1                    1                        0   \n",
       "\n",
       "     Property_Area_Urban  \n",
       "0                      1  \n",
       "1                      1  \n",
       "2                      1  \n",
       "3                      1  \n",
       "4                      1  \n",
       "..                   ...  \n",
       "362                    1  \n",
       "363                    1  \n",
       "364                    0  \n",
       "365                    0  \n",
       "366                    0  \n",
       "\n",
       "[367 rows x 20 columns]"
      ],
      "text/html": "<div>\n<style scoped>\n    .dataframe tbody tr th:only-of-type {\n        vertical-align: middle;\n    }\n\n    .dataframe tbody tr th {\n        vertical-align: top;\n    }\n\n    .dataframe thead th {\n        text-align: right;\n    }\n</style>\n<table border=\"1\" class=\"dataframe\">\n  <thead>\n    <tr style=\"text-align: right;\">\n      <th></th>\n      <th>ApplicantIncome</th>\n      <th>CoapplicantIncome</th>\n      <th>LoanAmount</th>\n      <th>Loan_Amount_Term</th>\n      <th>Credit_History</th>\n      <th>Gender_Female</th>\n      <th>Gender_Male</th>\n      <th>Married_No</th>\n      <th>Married_Yes</th>\n      <th>Dependents_0</th>\n      <th>Dependents_1</th>\n      <th>Dependents_2</th>\n      <th>Dependents_3+</th>\n      <th>Education_Graduate</th>\n      <th>Education_Not Graduate</th>\n      <th>Self_Employed_No</th>\n      <th>Self_Employed_Yes</th>\n      <th>Property_Area_Rural</th>\n      <th>Property_Area_Semiurban</th>\n      <th>Property_Area_Urban</th>\n    </tr>\n  </thead>\n  <tbody>\n    <tr>\n      <th>0</th>\n      <td>5720</td>\n      <td>0</td>\n      <td>110.0</td>\n      <td>360.0</td>\n      <td>1.0</td>\n      <td>0</td>\n      <td>1</td>\n      <td>0</td>\n      <td>1</td>\n      <td>1</td>\n      <td>0</td>\n      <td>0</td>\n      <td>0</td>\n      <td>1</td>\n      <td>0</td>\n      <td>1</td>\n      <td>0</td>\n      <td>0</td>\n      <td>0</td>\n      <td>1</td>\n    </tr>\n    <tr>\n      <th>1</th>\n      <td>3076</td>\n      <td>1500</td>\n      <td>126.0</td>\n      <td>360.0</td>\n      <td>1.0</td>\n      <td>0</td>\n      <td>1</td>\n      <td>0</td>\n      <td>1</td>\n      <td>0</td>\n      <td>1</td>\n      <td>0</td>\n      <td>0</td>\n      <td>1</td>\n      <td>0</td>\n      <td>1</td>\n      <td>0</td>\n      <td>0</td>\n      <td>0</td>\n      <td>1</td>\n    </tr>\n    <tr>\n      <th>2</th>\n      <td>5000</td>\n      <td>1800</td>\n      <td>208.0</td>\n      <td>360.0</td>\n      <td>1.0</td>\n      <td>0</td>\n      <td>1</td>\n      <td>0</td>\n      <td>1</td>\n      <td>0</td>\n      <td>0</td>\n      <td>1</td>\n      <td>0</td>\n      <td>1</td>\n      <td>0</td>\n      <td>1</td>\n      <td>0</td>\n      <td>0</td>\n      <td>0</td>\n      <td>1</td>\n    </tr>\n    <tr>\n      <th>3</th>\n      <td>2340</td>\n      <td>2546</td>\n      <td>100.0</td>\n      <td>360.0</td>\n      <td>1.0</td>\n      <td>0</td>\n      <td>1</td>\n      <td>0</td>\n      <td>1</td>\n      <td>0</td>\n      <td>0</td>\n      <td>1</td>\n      <td>0</td>\n      <td>1</td>\n      <td>0</td>\n      <td>1</td>\n      <td>0</td>\n      <td>0</td>\n      <td>0</td>\n      <td>1</td>\n    </tr>\n    <tr>\n      <th>4</th>\n      <td>3276</td>\n      <td>0</td>\n      <td>78.0</td>\n      <td>360.0</td>\n      <td>1.0</td>\n      <td>0</td>\n      <td>1</td>\n      <td>1</td>\n      <td>0</td>\n      <td>1</td>\n      <td>0</td>\n      <td>0</td>\n      <td>0</td>\n      <td>0</td>\n      <td>1</td>\n      <td>1</td>\n      <td>0</td>\n      <td>0</td>\n      <td>0</td>\n      <td>1</td>\n    </tr>\n    <tr>\n      <th>...</th>\n      <td>...</td>\n      <td>...</td>\n      <td>...</td>\n      <td>...</td>\n      <td>...</td>\n      <td>...</td>\n      <td>...</td>\n      <td>...</td>\n      <td>...</td>\n      <td>...</td>\n      <td>...</td>\n      <td>...</td>\n      <td>...</td>\n      <td>...</td>\n      <td>...</td>\n      <td>...</td>\n      <td>...</td>\n      <td>...</td>\n      <td>...</td>\n      <td>...</td>\n    </tr>\n    <tr>\n      <th>362</th>\n      <td>4009</td>\n      <td>1777</td>\n      <td>113.0</td>\n      <td>360.0</td>\n      <td>1.0</td>\n      <td>0</td>\n      <td>1</td>\n      <td>0</td>\n      <td>1</td>\n      <td>0</td>\n      <td>0</td>\n      <td>0</td>\n      <td>1</td>\n      <td>0</td>\n      <td>1</td>\n      <td>0</td>\n      <td>1</td>\n      <td>0</td>\n      <td>0</td>\n      <td>1</td>\n    </tr>\n    <tr>\n      <th>363</th>\n      <td>4158</td>\n      <td>709</td>\n      <td>115.0</td>\n      <td>360.0</td>\n      <td>1.0</td>\n      <td>0</td>\n      <td>1</td>\n      <td>0</td>\n      <td>1</td>\n      <td>1</td>\n      <td>0</td>\n      <td>0</td>\n      <td>0</td>\n      <td>1</td>\n      <td>0</td>\n      <td>1</td>\n      <td>0</td>\n      <td>0</td>\n      <td>0</td>\n      <td>1</td>\n    </tr>\n    <tr>\n      <th>364</th>\n      <td>3250</td>\n      <td>1993</td>\n      <td>126.0</td>\n      <td>360.0</td>\n      <td>1.0</td>\n      <td>0</td>\n      <td>1</td>\n      <td>1</td>\n      <td>0</td>\n      <td>1</td>\n      <td>0</td>\n      <td>0</td>\n      <td>0</td>\n      <td>1</td>\n      <td>0</td>\n      <td>1</td>\n      <td>0</td>\n      <td>0</td>\n      <td>1</td>\n      <td>0</td>\n    </tr>\n    <tr>\n      <th>365</th>\n      <td>5000</td>\n      <td>2393</td>\n      <td>158.0</td>\n      <td>360.0</td>\n      <td>1.0</td>\n      <td>0</td>\n      <td>1</td>\n      <td>0</td>\n      <td>1</td>\n      <td>1</td>\n      <td>0</td>\n      <td>0</td>\n      <td>0</td>\n      <td>1</td>\n      <td>0</td>\n      <td>1</td>\n      <td>0</td>\n      <td>1</td>\n      <td>0</td>\n      <td>0</td>\n    </tr>\n    <tr>\n      <th>366</th>\n      <td>9200</td>\n      <td>0</td>\n      <td>98.0</td>\n      <td>180.0</td>\n      <td>1.0</td>\n      <td>0</td>\n      <td>1</td>\n      <td>1</td>\n      <td>0</td>\n      <td>1</td>\n      <td>0</td>\n      <td>0</td>\n      <td>0</td>\n      <td>1</td>\n      <td>0</td>\n      <td>0</td>\n      <td>1</td>\n      <td>1</td>\n      <td>0</td>\n      <td>0</td>\n    </tr>\n  </tbody>\n</table>\n<p>367 rows × 20 columns</p>\n</div>"
     },
     "metadata": {},
     "execution_count": 93
    }
   ],
   "source": [
    "#format data test\n",
    "df_test = pd.read_csv('test_data.csv')\n",
    "df_test.drop('Loan_ID',axis = 1, inplace = True)\n",
    "name_columns_test = list(df_test.columns.values)\n",
    "imp_test = SimpleImputer(missing_values = np.nan, strategy ='most_frequent')\n",
    "imp_test.fit(df_test)\n",
    "df_test = imp_test.transform(df_test)\n",
    "df_test = pd.DataFrame(df_test, columns = name_columns_test)\n",
    "df_test_new = pd.get_dummies(df_test, columns =['Gender','Married','Dependents','Education','Self_Employed','Property_Area'] )\n",
    "df_test_new\n"
   ]
  },
  {
   "cell_type": "code",
   "execution_count": 98,
   "metadata": {},
   "outputs": [
    {
     "output_type": "stream",
     "name": "stdout",
     "text": [
      "Fitting 5 folds for each of 108 candidates, totalling 540 fits\n",
      "best score 0.8730784634280837\n",
      "clf__n_estimators: 50\n",
      "clf__max_depth: 50\n",
      "clf__min_samples_split: 3\n",
      "clf__min_samples_leaf: 3\n"
     ]
    }
   ],
   "source": [
    "if __name__ ==\"__main__\":\n",
    "    pipeline = Pipeline([\n",
    "        ('clf', RandomForestClassifier(criterion = 'entropy'))\n",
    "    ])\n",
    "    parameters= {\n",
    "        'clf__n_estimators': (5,10,20,50),\n",
    "        'clf__max_depth': (50,150,250),\n",
    "        'clf__min_samples_split': (1,2,3),\n",
    "        'clf__min_samples_leaf': (1,2,3)\n",
    "    }\n",
    "    #get X-train y_train  \n",
    "    # X_train, X_test, y_train, y_test = train_test_split(data_new,y)\n",
    "    grid_search = GridSearchCV(pipeline, parameters,n_jobs = -1, verbose = 1, scoring ='f1')\n",
    "    grid_search.fit(data_new, y)\n",
    "    print('best score {}'.format(grid_search.best_score_))\n",
    "    best_parameters = grid_search.best_estimator_.get_params()\n",
    "    for i, value in enumerate(parameters.keys()):\n",
    "        print(\"{}: {}\".format(value, best_parameters[value]))\n"
   ]
  },
  {
   "cell_type": "code",
   "execution_count": 99,
   "metadata": {},
   "outputs": [
    {
     "output_type": "stream",
     "name": "stdout",
     "text": [
      "Fitting 5 folds for each of 3 candidates, totalling 15 fits\n",
      "best score: 0.8728941830162196\n",
      "clf__C 1\n"
     ]
    }
   ],
   "source": [
    "if __name__ =='__main__':\n",
    "    pipeline_Logistic = Pipeline([\n",
    "        ('clf', LogisticRegression())\n",
    "        ])\n",
    "    parameteres_logistic ={\n",
    "        'clf__C':(0.1,1,10)\n",
    "    }\n",
    "grid_logistic = GridSearchCV(pipeline_Logistic,parameteres_logistic,n_jobs =-1,verbose = 1, scoring = 'f1')\n",
    "grid_logistic.fit(data_new, y)\n",
    "print(\"best score: {}\".format(grid_logistic.best_score_))\n",
    "best_parameters_logistic = grid_logistic.best_estimator_.get_params()\n",
    "for value in sorted(parameteres_logistic.keys()):\n",
    "    print(value, best_parameters_logistic[value])"
   ]
  },
  {
   "cell_type": "code",
   "execution_count": 97,
   "metadata": {
    "tags": []
   },
   "outputs": [
    {
     "output_type": "stream",
     "name": "stdout",
     "text": [
      "tree :1 logistic1\ntree :1 logistic1\ntree :1 logistic1\ntree :1 logistic1\ntree :0 logistic1\ntree :1 logistic1\ntree :1 logistic1\ntree :0 logistic0\ntree :1 logistic1\ntree :1 logistic1\ntree :1 logistic1\ntree :1 logistic1\ntree :1 logistic1\ntree :0 logistic0\ntree :1 logistic1\ntree :1 logistic1\ntree :1 logistic1\ntree :1 logistic1\ntree :1 logistic1\ntree :1 logistic1\ntree :1 logistic1\ntree :1 logistic1\ntree :1 logistic1\ntree :1 logistic1\ntree :1 logistic1\ntree :0 logistic0\ntree :1 logistic1\ntree :1 logistic1\ntree :1 logistic1\ntree :1 logistic1\ntree :1 logistic1\ntree :1 logistic1\ntree :1 logistic1\ntree :1 logistic1\ntree :1 logistic1\ntree :0 logistic0\ntree :1 logistic1\ntree :1 logistic1\ntree :1 logistic1\ntree :1 logistic1\ntree :1 logistic1\ntree :1 logistic1\ntree :1 logistic1\ntree :1 logistic1\ntree :1 logistic1\ntree :1 logistic1\ntree :1 logistic1\ntree :1 logistic1\ntree :1 logistic1\ntree :1 logistic1\ntree :1 logistic1\ntree :1 logistic1\ntree :1 logistic1\ntree :1 logistic1\ntree :1 logistic1\ntree :0 logistic0\ntree :1 logistic1\ntree :1 logistic1\ntree :0 logistic0\ntree :1 logistic1\ntree :1 logistic1\ntree :1 logistic1\ntree :1 logistic1\ntree :0 logistic0\ntree :1 logistic1\ntree :1 logistic1\ntree :0 logistic0\ntree :0 logistic0\ntree :1 logistic1\ntree :0 logistic0\ntree :1 logistic1\ntree :1 logistic1\ntree :1 logistic1\ntree :1 logistic1\ntree :1 logistic1\ntree :1 logistic1\ntree :1 logistic1\ntree :1 logistic1\ntree :1 logistic1\ntree :1 logistic1\ntree :0 logistic0\ntree :1 logistic1\ntree :0 logistic0\ntree :1 logistic1\ntree :0 logistic1\ntree :1 logistic1\ntree :1 logistic1\ntree :1 logistic1\ntree :1 logistic1\ntree :1 logistic1\ntree :1 logistic1\ntree :1 logistic1\ntree :1 logistic1\ntree :1 logistic1\ntree :0 logistic0\ntree :1 logistic1\ntree :1 logistic1\ntree :1 logistic1\ntree :1 logistic1\ntree :1 logistic1\ntree :1 logistic1\ntree :0 logistic0\ntree :1 logistic1\ntree :1 logistic1\ntree :1 logistic1\ntree :1 logistic1\ntree :0 logistic0\ntree :1 logistic1\ntree :1 logistic1\ntree :1 logistic1\ntree :1 logistic1\ntree :1 logistic1\ntree :1 logistic1\ntree :1 logistic1\ntree :1 logistic1\ntree :1 logistic1\ntree :1 logistic1\ntree :0 logistic0\ntree :0 logistic0\ntree :0 logistic0\ntree :1 logistic1\ntree :1 logistic1\ntree :1 logistic1\ntree :0 logistic0\ntree :0 logistic0\ntree :1 logistic1\ntree :0 logistic0\ntree :1 logistic1\ntree :1 logistic1\ntree :1 logistic1\ntree :1 logistic1\ntree :1 logistic1\ntree :1 logistic1\ntree :1 logistic1\ntree :1 logistic1\ntree :1 logistic1\ntree :1 logistic1\ntree :1 logistic1\ntree :1 logistic1\ntree :1 logistic1\ntree :0 logistic0\ntree :1 logistic1\ntree :0 logistic0\ntree :1 logistic1\ntree :1 logistic1\ntree :1 logistic1\ntree :1 logistic1\ntree :0 logistic0\ntree :1 logistic1\ntree :1 logistic1\ntree :1 logistic1\ntree :1 logistic1\ntree :1 logistic1\ntree :0 logistic0\ntree :1 logistic1\ntree :1 logistic1\ntree :1 logistic1\ntree :1 logistic1\ntree :1 logistic1\ntree :1 logistic1\ntree :1 logistic1\ntree :0 logistic0\ntree :1 logistic1\ntree :1 logistic1\ntree :1 logistic1\ntree :0 logistic0\ntree :0 logistic0\ntree :1 logistic1\ntree :0 logistic0\ntree :1 logistic1\ntree :1 logistic1\ntree :1 logistic1\ntree :1 logistic1\ntree :0 logistic0\ntree :0 logistic0\ntree :1 logistic1\ntree :1 logistic1\ntree :1 logistic1\ntree :1 logistic1\ntree :1 logistic1\ntree :1 logistic1\ntree :1 logistic1\ntree :1 logistic1\ntree :1 logistic1\ntree :1 logistic1\ntree :1 logistic1\ntree :1 logistic1\ntree :1 logistic1\ntree :1 logistic1\ntree :1 logistic1\ntree :1 logistic1\ntree :1 logistic1\ntree :0 logistic0\ntree :0 logistic0\ntree :1 logistic1\ntree :1 logistic1\ntree :0 logistic0\ntree :1 logistic1\ntree :0 logistic0\ntree :1 logistic1\ntree :1 logistic1\ntree :1 logistic1\ntree :1 logistic1\ntree :1 logistic1\ntree :1 logistic1\ntree :1 logistic1\ntree :1 logistic1\ntree :1 logistic1\ntree :1 logistic1\ntree :1 logistic0\ntree :1 logistic1\ntree :0 logistic0\ntree :1 logistic1\ntree :1 logistic1\ntree :1 logistic1\ntree :1 logistic1\ntree :1 logistic1\ntree :1 logistic1\ntree :1 logistic1\ntree :1 logistic1\ntree :1 logistic1\ntree :1 logistic1\ntree :1 logistic1\ntree :1 logistic1\ntree :0 logistic0\ntree :1 logistic1\ntree :1 logistic1\ntree :1 logistic1\ntree :1 logistic1\ntree :0 logistic0\ntree :1 logistic1\ntree :1 logistic1\ntree :1 logistic1\ntree :1 logistic1\ntree :1 logistic1\ntree :0 logistic0\ntree :0 logistic0\ntree :1 logistic0\ntree :1 logistic1\ntree :0 logistic1\ntree :1 logistic1\ntree :0 logistic0\ntree :1 logistic1\ntree :0 logistic0\ntree :1 logistic1\ntree :0 logistic1\ntree :1 logistic1\ntree :1 logistic1\ntree :1 logistic1\ntree :1 logistic1\ntree :0 logistic0\ntree :1 logistic1\ntree :1 logistic1\ntree :1 logistic1\ntree :1 logistic1\ntree :0 logistic0\ntree :1 logistic1\ntree :1 logistic1\ntree :1 logistic1\ntree :1 logistic1\ntree :1 logistic1\ntree :1 logistic1\ntree :1 logistic1\ntree :1 logistic1\ntree :1 logistic1\ntree :1 logistic1\ntree :0 logistic0\ntree :1 logistic0\ntree :0 logistic0\ntree :1 logistic1\ntree :1 logistic1\ntree :1 logistic1\ntree :1 logistic1\ntree :0 logistic0\ntree :0 logistic0\ntree :1 logistic1\ntree :1 logistic1\ntree :1 logistic1\ntree :0 logistic0\ntree :1 logistic1\ntree :1 logistic1\ntree :1 logistic1\ntree :1 logistic1\ntree :1 logistic1\ntree :1 logistic1\ntree :1 logistic1\ntree :1 logistic1\ntree :1 logistic1\ntree :1 logistic1\ntree :1 logistic1\ntree :1 logistic1\ntree :1 logistic1\ntree :1 logistic1\ntree :0 logistic0\ntree :1 logistic1\ntree :1 logistic1\ntree :1 logistic1\ntree :1 logistic1\ntree :1 logistic1\ntree :1 logistic1\ntree :1 logistic1\ntree :0 logistic0\ntree :1 logistic1\ntree :1 logistic1\ntree :1 logistic1\ntree :1 logistic1\ntree :1 logistic1\ntree :1 logistic1\ntree :1 logistic1\ntree :1 logistic1\ntree :1 logistic1\ntree :0 logistic0\ntree :1 logistic1\ntree :1 logistic1\ntree :1 logistic1\ntree :1 logistic1\ntree :1 logistic1\ntree :0 logistic0\ntree :1 logistic1\ntree :1 logistic1\ntree :1 logistic1\ntree :1 logistic1\ntree :1 logistic1\ntree :1 logistic1\ntree :1 logistic1\ntree :0 logistic1\ntree :1 logistic1\ntree :1 logistic1\ntree :1 logistic1\ntree :1 logistic1\ntree :1 logistic1\ntree :1 logistic1\ntree :1 logistic1\ntree :1 logistic1\ntree :1 logistic1\ntree :1 logistic1\ntree :1 logistic1\ntree :1 logistic1\ntree :1 logistic1\ntree :0 logistic0\ntree :1 logistic1\ntree :1 logistic1\ntree :0 logistic1\ntree :1 logistic1\ntree :1 logistic1\ntree :1 logistic1\ntree :0 logistic0\ntree :1 logistic1\ntree :1 logistic1\ntree :1 logistic1\ntree :1 logistic1\ntree :1 logistic1\ntree :1 logistic1\ntree :1 logistic1\ntree :0 logistic0\ntree :1 logistic1\ntree :1 logistic1\ntree :1 logistic1\ntree :1 logistic1\ntree :1 logistic1\ntree :1 logistic1\ntree :1 logistic1\ntree :1 logistic1\ntree :1 logistic1\ntree :1 logistic1\ntree :1 logistic1\ntree :1 logistic1\n"
     ]
    }
   ],
   "source": [
    "y_predict_tree = grid_search.predict(df_test_new)\n",
    "y_predict_logistic = grid_logistic.predict(df_test_new)\n",
    "for i, value in enumerate(y_predict_tree):\n",
    "    print(\"tree :{} logistic{}\".format(y_predict_tree[i], y_predict_logistic[i]))"
   ]
  }
 ]
}